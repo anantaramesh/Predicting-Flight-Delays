{
 "cells": [
  {
   "cell_type": "markdown",
   "id": "narrow-artist",
   "metadata": {},
   "source": [
    "### Loading the necessary libraries:"
   ]
  },
  {
   "cell_type": "code",
   "execution_count": 1,
   "id": "determined-student",
   "metadata": {},
   "outputs": [],
   "source": [
    "import pickle\n",
    "import numpy as np\n",
    "import pandas as pd\n",
    "\n",
    "from sklearn.model_selection import train_test_split, cross_val_score, RandomizedSearchCV\n",
    "from sklearn.preprocessing import StandardScaler, LabelEncoder\n",
    "from sklearn.metrics import mean_absolute_error, mean_squared_error, r2_score\n",
    "\n",
    "from sklearn import tree, ensemble\n",
    "from sklearn.linear_model import LinearRegression"
   ]
  },
  {
   "cell_type": "code",
   "execution_count": 2,
   "id": "covered-inventory",
   "metadata": {},
   "outputs": [],
   "source": [
    "with open('flights_after_wrangling.pkl', 'rb') as file:\n",
    "    df = pickle.load(file)"
   ]
  },
  {
   "cell_type": "markdown",
   "id": "fantastic-calgary",
   "metadata": {},
   "source": [
    "### Examining the data:"
   ]
  },
  {
   "cell_type": "code",
   "execution_count": 3,
   "id": "mineral-bangladesh",
   "metadata": {},
   "outputs": [
    {
     "data": {
      "text/html": [
       "<div>\n",
       "<style scoped>\n",
       "    .dataframe tbody tr th:only-of-type {\n",
       "        vertical-align: middle;\n",
       "    }\n",
       "\n",
       "    .dataframe tbody tr th {\n",
       "        vertical-align: top;\n",
       "    }\n",
       "\n",
       "    .dataframe thead th {\n",
       "        text-align: right;\n",
       "    }\n",
       "</style>\n",
       "<table border=\"1\" class=\"dataframe\">\n",
       "  <thead>\n",
       "    <tr style=\"text-align: right;\">\n",
       "      <th></th>\n",
       "      <th>YEAR</th>\n",
       "      <th>MONTH</th>\n",
       "      <th>DAY</th>\n",
       "      <th>DAY_OF_WEEK</th>\n",
       "      <th>AIRLINE_CODE</th>\n",
       "      <th>FLIGHT_NUMBER</th>\n",
       "      <th>TAIL_NUMBER</th>\n",
       "      <th>ORIGIN_AIRPORT</th>\n",
       "      <th>DESTINATION_AIRPORT</th>\n",
       "      <th>SCHEDULED_DEPARTURE</th>\n",
       "      <th>...</th>\n",
       "      <th>ORIG_STATE</th>\n",
       "      <th>ORIG_LATITUDE</th>\n",
       "      <th>ORIG_LONGITUDE</th>\n",
       "      <th>DEST_AIRPORT</th>\n",
       "      <th>DEST_CITY</th>\n",
       "      <th>DEST_STATE</th>\n",
       "      <th>DEST_LATITUDE</th>\n",
       "      <th>DEST_LONGITUDE</th>\n",
       "      <th>DATE</th>\n",
       "      <th>DELAY_LEVEL</th>\n",
       "    </tr>\n",
       "  </thead>\n",
       "  <tbody>\n",
       "    <tr>\n",
       "      <th>0</th>\n",
       "      <td>2015</td>\n",
       "      <td>1</td>\n",
       "      <td>1</td>\n",
       "      <td>4</td>\n",
       "      <td>AS</td>\n",
       "      <td>98</td>\n",
       "      <td>N407AS</td>\n",
       "      <td>ANC</td>\n",
       "      <td>SEA</td>\n",
       "      <td>2015-01-01 00:05:00</td>\n",
       "      <td>...</td>\n",
       "      <td>AK</td>\n",
       "      <td>61.17432</td>\n",
       "      <td>-149.99619</td>\n",
       "      <td>Seattle-Tacoma International Airport</td>\n",
       "      <td>Seattle</td>\n",
       "      <td>WA</td>\n",
       "      <td>47.44898</td>\n",
       "      <td>-122.30931</td>\n",
       "      <td>2015-01-01</td>\n",
       "      <td>0</td>\n",
       "    </tr>\n",
       "    <tr>\n",
       "      <th>1</th>\n",
       "      <td>2015</td>\n",
       "      <td>1</td>\n",
       "      <td>1</td>\n",
       "      <td>4</td>\n",
       "      <td>AA</td>\n",
       "      <td>2336</td>\n",
       "      <td>N3KUAA</td>\n",
       "      <td>LAX</td>\n",
       "      <td>PBI</td>\n",
       "      <td>2015-01-01 00:10:00</td>\n",
       "      <td>...</td>\n",
       "      <td>CA</td>\n",
       "      <td>33.94254</td>\n",
       "      <td>-118.40807</td>\n",
       "      <td>Palm Beach International Airport</td>\n",
       "      <td>West Palm Beach</td>\n",
       "      <td>FL</td>\n",
       "      <td>26.68316</td>\n",
       "      <td>-80.09559</td>\n",
       "      <td>2015-01-01</td>\n",
       "      <td>0</td>\n",
       "    </tr>\n",
       "    <tr>\n",
       "      <th>2</th>\n",
       "      <td>2015</td>\n",
       "      <td>1</td>\n",
       "      <td>1</td>\n",
       "      <td>4</td>\n",
       "      <td>US</td>\n",
       "      <td>840</td>\n",
       "      <td>N171US</td>\n",
       "      <td>SFO</td>\n",
       "      <td>CLT</td>\n",
       "      <td>2015-01-01 00:20:00</td>\n",
       "      <td>...</td>\n",
       "      <td>CA</td>\n",
       "      <td>37.61900</td>\n",
       "      <td>-122.37484</td>\n",
       "      <td>Charlotte Douglas International Airport</td>\n",
       "      <td>Charlotte</td>\n",
       "      <td>NC</td>\n",
       "      <td>35.21401</td>\n",
       "      <td>-80.94313</td>\n",
       "      <td>2015-01-01</td>\n",
       "      <td>0</td>\n",
       "    </tr>\n",
       "    <tr>\n",
       "      <th>3</th>\n",
       "      <td>2015</td>\n",
       "      <td>1</td>\n",
       "      <td>1</td>\n",
       "      <td>4</td>\n",
       "      <td>AA</td>\n",
       "      <td>258</td>\n",
       "      <td>N3HYAA</td>\n",
       "      <td>LAX</td>\n",
       "      <td>MIA</td>\n",
       "      <td>2015-01-01 00:20:00</td>\n",
       "      <td>...</td>\n",
       "      <td>CA</td>\n",
       "      <td>33.94254</td>\n",
       "      <td>-118.40807</td>\n",
       "      <td>Miami International Airport</td>\n",
       "      <td>Miami</td>\n",
       "      <td>FL</td>\n",
       "      <td>25.79325</td>\n",
       "      <td>-80.29056</td>\n",
       "      <td>2015-01-01</td>\n",
       "      <td>0</td>\n",
       "    </tr>\n",
       "    <tr>\n",
       "      <th>4</th>\n",
       "      <td>2015</td>\n",
       "      <td>1</td>\n",
       "      <td>1</td>\n",
       "      <td>4</td>\n",
       "      <td>AS</td>\n",
       "      <td>135</td>\n",
       "      <td>N527AS</td>\n",
       "      <td>SEA</td>\n",
       "      <td>ANC</td>\n",
       "      <td>2015-01-01 00:25:00</td>\n",
       "      <td>...</td>\n",
       "      <td>WA</td>\n",
       "      <td>47.44898</td>\n",
       "      <td>-122.30931</td>\n",
       "      <td>Ted Stevens Anchorage International Airport</td>\n",
       "      <td>Anchorage</td>\n",
       "      <td>AK</td>\n",
       "      <td>61.17432</td>\n",
       "      <td>-149.99619</td>\n",
       "      <td>2015-01-01</td>\n",
       "      <td>0</td>\n",
       "    </tr>\n",
       "  </tbody>\n",
       "</table>\n",
       "<p>5 rows × 42 columns</p>\n",
       "</div>"
      ],
      "text/plain": [
       "   YEAR  MONTH  DAY  DAY_OF_WEEK AIRLINE_CODE  FLIGHT_NUMBER TAIL_NUMBER  \\\n",
       "0  2015      1    1            4           AS             98      N407AS   \n",
       "1  2015      1    1            4           AA           2336      N3KUAA   \n",
       "2  2015      1    1            4           US            840      N171US   \n",
       "3  2015      1    1            4           AA            258      N3HYAA   \n",
       "4  2015      1    1            4           AS            135      N527AS   \n",
       "\n",
       "  ORIGIN_AIRPORT DESTINATION_AIRPORT SCHEDULED_DEPARTURE  ...  ORIG_STATE  \\\n",
       "0            ANC                 SEA 2015-01-01 00:05:00  ...          AK   \n",
       "1            LAX                 PBI 2015-01-01 00:10:00  ...          CA   \n",
       "2            SFO                 CLT 2015-01-01 00:20:00  ...          CA   \n",
       "3            LAX                 MIA 2015-01-01 00:20:00  ...          CA   \n",
       "4            SEA                 ANC 2015-01-01 00:25:00  ...          WA   \n",
       "\n",
       "   ORIG_LATITUDE  ORIG_LONGITUDE                                 DEST_AIRPORT  \\\n",
       "0       61.17432      -149.99619         Seattle-Tacoma International Airport   \n",
       "1       33.94254      -118.40807             Palm Beach International Airport   \n",
       "2       37.61900      -122.37484      Charlotte Douglas International Airport   \n",
       "3       33.94254      -118.40807                  Miami International Airport   \n",
       "4       47.44898      -122.30931  Ted Stevens Anchorage International Airport   \n",
       "\n",
       "         DEST_CITY  DEST_STATE  DEST_LATITUDE  DEST_LONGITUDE       DATE  \\\n",
       "0          Seattle          WA       47.44898      -122.30931 2015-01-01   \n",
       "1  West Palm Beach          FL       26.68316       -80.09559 2015-01-01   \n",
       "2        Charlotte          NC       35.21401       -80.94313 2015-01-01   \n",
       "3            Miami          FL       25.79325       -80.29056 2015-01-01   \n",
       "4        Anchorage          AK       61.17432      -149.99619 2015-01-01   \n",
       "\n",
       "  DELAY_LEVEL  \n",
       "0           0  \n",
       "1           0  \n",
       "2           0  \n",
       "3           0  \n",
       "4           0  \n",
       "\n",
       "[5 rows x 42 columns]"
      ]
     },
     "execution_count": 3,
     "metadata": {},
     "output_type": "execute_result"
    }
   ],
   "source": [
    "df.head()"
   ]
  },
  {
   "cell_type": "code",
   "execution_count": 4,
   "id": "dangerous-county",
   "metadata": {},
   "outputs": [
    {
     "name": "stdout",
     "output_type": "stream",
     "text": [
      "<class 'pandas.core.frame.DataFrame'>\n",
      "Int64Index: 1403471 entries, 0 to 1403470\n",
      "Data columns (total 42 columns):\n",
      " #   Column               Non-Null Count    Dtype         \n",
      "---  ------               --------------    -----         \n",
      " 0   YEAR                 1403471 non-null  int64         \n",
      " 1   MONTH                1403471 non-null  int64         \n",
      " 2   DAY                  1403471 non-null  int64         \n",
      " 3   DAY_OF_WEEK          1403471 non-null  int64         \n",
      " 4   AIRLINE_CODE         1403471 non-null  object        \n",
      " 5   FLIGHT_NUMBER        1403471 non-null  int64         \n",
      " 6   TAIL_NUMBER          1395281 non-null  object        \n",
      " 7   ORIGIN_AIRPORT       1403471 non-null  object        \n",
      " 8   DESTINATION_AIRPORT  1403471 non-null  object        \n",
      " 9   SCHEDULED_DEPARTURE  1403471 non-null  datetime64[ns]\n",
      " 10  DEPARTURE_DELAY      1361116 non-null  float64       \n",
      " 11  TAXI_OUT             1360300 non-null  float64       \n",
      " 12  WHEELS_OFF           1360300 non-null  float64       \n",
      " 13  SCHEDULED_TIME       1403469 non-null  float64       \n",
      " 14  ELAPSED_TIME         1356814 non-null  float64       \n",
      " 15  AIR_TIME             1356814 non-null  float64       \n",
      " 16  DISTANCE             1403471 non-null  int64         \n",
      " 17  WHEELS_ON            1359103 non-null  float64       \n",
      " 18  TAXI_IN              1359103 non-null  float64       \n",
      " 19  SCHEDULED_ARRIVAL    1403471 non-null  object        \n",
      " 20  ARRIVAL_DELAY        1356814 non-null  float64       \n",
      " 21  DIVERTED             1403471 non-null  int64         \n",
      " 22  CANCELLED            1403471 non-null  int64         \n",
      " 23  CANCELLATION_REASON  43501 non-null    object        \n",
      " 24  AIR_SYSTEM_DELAY     286582 non-null   float64       \n",
      " 25  SECURITY_DELAY       286582 non-null   float64       \n",
      " 26  AIRLINE_DELAY        286582 non-null   float64       \n",
      " 27  LATE_AIRCRAFT_DELAY  286582 non-null   float64       \n",
      " 28  WEATHER_DELAY        286582 non-null   float64       \n",
      " 29  AIRLINE              1403471 non-null  object        \n",
      " 30  ORIG_AIRPORT         1403471 non-null  object        \n",
      " 31  ORIG_CITY            1403471 non-null  object        \n",
      " 32  ORIG_STATE           1403471 non-null  object        \n",
      " 33  ORIG_LATITUDE        1402481 non-null  float64       \n",
      " 34  ORIG_LONGITUDE       1402481 non-null  float64       \n",
      " 35  DEST_AIRPORT         1403471 non-null  object        \n",
      " 36  DEST_CITY            1403471 non-null  object        \n",
      " 37  DEST_STATE           1403471 non-null  object        \n",
      " 38  DEST_LATITUDE        1402477 non-null  float64       \n",
      " 39  DEST_LONGITUDE       1402477 non-null  float64       \n",
      " 40  DATE                 1403471 non-null  datetime64[ns]\n",
      " 41  DELAY_LEVEL          1403471 non-null  int64         \n",
      "dtypes: datetime64[ns](2), float64(18), int64(9), object(13)\n",
      "memory usage: 460.4+ MB\n"
     ]
    }
   ],
   "source": [
    "df.info()"
   ]
  },
  {
   "cell_type": "markdown",
   "id": "senior-rainbow",
   "metadata": {},
   "source": [
    "My goal is to build a model that is accurately able to predict, given certain features, whether a flight is going to be delayed or not. In order to do so, I want to determine which of these features are useful, i.e., which of these features contain information that is useful to predict delay. "
   ]
  },
  {
   "cell_type": "code",
   "execution_count": 5,
   "id": "working-carnival",
   "metadata": {},
   "outputs": [
    {
     "data": {
      "text/plain": [
       "ARRIVAL_DELAY          1.000000\n",
       "DEPARTURE_DELAY        0.940434\n",
       "DELAY_LEVEL            0.684484\n",
       "AIRLINE_DELAY          0.600503\n",
       "LATE_AIRCRAFT_DELAY    0.522679\n",
       "WEATHER_DELAY          0.314062\n",
       "TAXI_OUT               0.268260\n",
       "AIR_SYSTEM_DELAY       0.243839\n",
       "WHEELS_OFF             0.153788\n",
       "TAXI_IN                0.140882\n",
       "WHEELS_ON              0.065830\n",
       "ELAPSED_TIME           0.040286\n",
       "DEST_LONGITUDE         0.039928\n",
       "ORIG_LONGITUDE         0.027617\n",
       "FLIGHT_NUMBER          0.026261\n",
       "DEST_LATITUDE          0.014206\n",
       "SECURITY_DELAY         0.012062\n",
       "ORIG_LATITUDE          0.009910\n",
       "DAY_OF_WEEK           -0.003578\n",
       "AIR_TIME              -0.006497\n",
       "MONTH                 -0.009887\n",
       "DISTANCE              -0.025270\n",
       "SCHEDULED_TIME        -0.029482\n",
       "DAY                   -0.079890\n",
       "DIVERTED                    NaN\n",
       "CANCELLED                   NaN\n",
       "Name: ARRIVAL_DELAY, dtype: float64"
      ]
     },
     "execution_count": 5,
     "metadata": {},
     "output_type": "execute_result"
    }
   ],
   "source": [
    "df[df.columns[1:]].corr()['ARRIVAL_DELAY'][:].sort_values(ascending=False)"
   ]
  },
  {
   "cell_type": "code",
   "execution_count": 6,
   "id": "editorial-solution",
   "metadata": {},
   "outputs": [
    {
     "data": {
      "text/plain": [
       "array([4, 5, 6, 7, 1, 2, 3])"
      ]
     },
     "execution_count": 6,
     "metadata": {},
     "output_type": "execute_result"
    }
   ],
   "source": [
    "df['DAY_OF_WEEK'].unique()"
   ]
  },
  {
   "cell_type": "markdown",
   "id": "exotic-chapter",
   "metadata": {},
   "source": [
    "Upon examining the documentation of the data in Kaggle, the way that this feature is defined is by using Monday as 1, Tuesday as 2, and so on.\n",
    "\n",
    "I want to create another column which will be a binary indicator of whether the flight departed on a weekend or a weekday."
   ]
  },
  {
   "cell_type": "code",
   "execution_count": 7,
   "id": "environmental-singer",
   "metadata": {},
   "outputs": [],
   "source": [
    "df['WEEKDAY'] = df['DAY_OF_WEEK'].apply(lambda x: 1 if x in [1,2,3,4,5] else 0)"
   ]
  },
  {
   "cell_type": "code",
   "execution_count": 8,
   "id": "romantic-fence",
   "metadata": {},
   "outputs": [
    {
     "data": {
      "text/plain": [
       "array([0, 1, 2])"
      ]
     },
     "execution_count": 8,
     "metadata": {},
     "output_type": "execute_result"
    }
   ],
   "source": [
    "df['DELAY_LEVEL'].unique()"
   ]
  },
  {
   "cell_type": "markdown",
   "id": "defensive-formation",
   "metadata": {},
   "source": [
    "Now, I am going to create a subset of the data with only the features that I will use for modeling and predicting arrival delay."
   ]
  },
  {
   "cell_type": "code",
   "execution_count": 9,
   "id": "suspended-juice",
   "metadata": {},
   "outputs": [
    {
     "data": {
      "text/plain": [
       "Index(['YEAR', 'MONTH', 'DAY', 'DAY_OF_WEEK', 'AIRLINE_CODE', 'FLIGHT_NUMBER',\n",
       "       'TAIL_NUMBER', 'ORIGIN_AIRPORT', 'DESTINATION_AIRPORT',\n",
       "       'SCHEDULED_DEPARTURE', 'DEPARTURE_DELAY', 'TAXI_OUT', 'WHEELS_OFF',\n",
       "       'SCHEDULED_TIME', 'ELAPSED_TIME', 'AIR_TIME', 'DISTANCE', 'WHEELS_ON',\n",
       "       'TAXI_IN', 'SCHEDULED_ARRIVAL', 'ARRIVAL_DELAY', 'DIVERTED',\n",
       "       'CANCELLED', 'CANCELLATION_REASON', 'AIR_SYSTEM_DELAY',\n",
       "       'SECURITY_DELAY', 'AIRLINE_DELAY', 'LATE_AIRCRAFT_DELAY',\n",
       "       'WEATHER_DELAY', 'AIRLINE', 'ORIG_AIRPORT', 'ORIG_CITY', 'ORIG_STATE',\n",
       "       'ORIG_LATITUDE', 'ORIG_LONGITUDE', 'DEST_AIRPORT', 'DEST_CITY',\n",
       "       'DEST_STATE', 'DEST_LATITUDE', 'DEST_LONGITUDE', 'DATE', 'DELAY_LEVEL',\n",
       "       'WEEKDAY'],\n",
       "      dtype='object')"
      ]
     },
     "execution_count": 9,
     "metadata": {},
     "output_type": "execute_result"
    }
   ],
   "source": [
    "df.columns"
   ]
  },
  {
   "cell_type": "code",
   "execution_count": 10,
   "id": "brilliant-broadcast",
   "metadata": {},
   "outputs": [
    {
     "data": {
      "text/html": [
       "<div>\n",
       "<style scoped>\n",
       "    .dataframe tbody tr th:only-of-type {\n",
       "        vertical-align: middle;\n",
       "    }\n",
       "\n",
       "    .dataframe tbody tr th {\n",
       "        vertical-align: top;\n",
       "    }\n",
       "\n",
       "    .dataframe thead th {\n",
       "        text-align: right;\n",
       "    }\n",
       "</style>\n",
       "<table border=\"1\" class=\"dataframe\">\n",
       "  <thead>\n",
       "    <tr style=\"text-align: right;\">\n",
       "      <th></th>\n",
       "      <th>YEAR</th>\n",
       "      <th>MONTH</th>\n",
       "      <th>DAY</th>\n",
       "      <th>DAY_OF_WEEK</th>\n",
       "      <th>AIRLINE_CODE</th>\n",
       "      <th>FLIGHT_NUMBER</th>\n",
       "      <th>TAIL_NUMBER</th>\n",
       "      <th>ORIGIN_AIRPORT</th>\n",
       "      <th>DESTINATION_AIRPORT</th>\n",
       "      <th>SCHEDULED_DEPARTURE</th>\n",
       "      <th>...</th>\n",
       "      <th>ORIG_LATITUDE</th>\n",
       "      <th>ORIG_LONGITUDE</th>\n",
       "      <th>DEST_AIRPORT</th>\n",
       "      <th>DEST_CITY</th>\n",
       "      <th>DEST_STATE</th>\n",
       "      <th>DEST_LATITUDE</th>\n",
       "      <th>DEST_LONGITUDE</th>\n",
       "      <th>DATE</th>\n",
       "      <th>DELAY_LEVEL</th>\n",
       "      <th>WEEKDAY</th>\n",
       "    </tr>\n",
       "  </thead>\n",
       "  <tbody>\n",
       "    <tr>\n",
       "      <th>0</th>\n",
       "      <td>2015</td>\n",
       "      <td>1</td>\n",
       "      <td>1</td>\n",
       "      <td>4</td>\n",
       "      <td>AS</td>\n",
       "      <td>98</td>\n",
       "      <td>N407AS</td>\n",
       "      <td>ANC</td>\n",
       "      <td>SEA</td>\n",
       "      <td>2015-01-01 00:05:00</td>\n",
       "      <td>...</td>\n",
       "      <td>61.17432</td>\n",
       "      <td>-149.99619</td>\n",
       "      <td>Seattle-Tacoma International Airport</td>\n",
       "      <td>Seattle</td>\n",
       "      <td>WA</td>\n",
       "      <td>47.44898</td>\n",
       "      <td>-122.30931</td>\n",
       "      <td>2015-01-01</td>\n",
       "      <td>0</td>\n",
       "      <td>1</td>\n",
       "    </tr>\n",
       "    <tr>\n",
       "      <th>1</th>\n",
       "      <td>2015</td>\n",
       "      <td>1</td>\n",
       "      <td>1</td>\n",
       "      <td>4</td>\n",
       "      <td>AA</td>\n",
       "      <td>2336</td>\n",
       "      <td>N3KUAA</td>\n",
       "      <td>LAX</td>\n",
       "      <td>PBI</td>\n",
       "      <td>2015-01-01 00:10:00</td>\n",
       "      <td>...</td>\n",
       "      <td>33.94254</td>\n",
       "      <td>-118.40807</td>\n",
       "      <td>Palm Beach International Airport</td>\n",
       "      <td>West Palm Beach</td>\n",
       "      <td>FL</td>\n",
       "      <td>26.68316</td>\n",
       "      <td>-80.09559</td>\n",
       "      <td>2015-01-01</td>\n",
       "      <td>0</td>\n",
       "      <td>1</td>\n",
       "    </tr>\n",
       "    <tr>\n",
       "      <th>2</th>\n",
       "      <td>2015</td>\n",
       "      <td>1</td>\n",
       "      <td>1</td>\n",
       "      <td>4</td>\n",
       "      <td>US</td>\n",
       "      <td>840</td>\n",
       "      <td>N171US</td>\n",
       "      <td>SFO</td>\n",
       "      <td>CLT</td>\n",
       "      <td>2015-01-01 00:20:00</td>\n",
       "      <td>...</td>\n",
       "      <td>37.61900</td>\n",
       "      <td>-122.37484</td>\n",
       "      <td>Charlotte Douglas International Airport</td>\n",
       "      <td>Charlotte</td>\n",
       "      <td>NC</td>\n",
       "      <td>35.21401</td>\n",
       "      <td>-80.94313</td>\n",
       "      <td>2015-01-01</td>\n",
       "      <td>0</td>\n",
       "      <td>1</td>\n",
       "    </tr>\n",
       "    <tr>\n",
       "      <th>3</th>\n",
       "      <td>2015</td>\n",
       "      <td>1</td>\n",
       "      <td>1</td>\n",
       "      <td>4</td>\n",
       "      <td>AA</td>\n",
       "      <td>258</td>\n",
       "      <td>N3HYAA</td>\n",
       "      <td>LAX</td>\n",
       "      <td>MIA</td>\n",
       "      <td>2015-01-01 00:20:00</td>\n",
       "      <td>...</td>\n",
       "      <td>33.94254</td>\n",
       "      <td>-118.40807</td>\n",
       "      <td>Miami International Airport</td>\n",
       "      <td>Miami</td>\n",
       "      <td>FL</td>\n",
       "      <td>25.79325</td>\n",
       "      <td>-80.29056</td>\n",
       "      <td>2015-01-01</td>\n",
       "      <td>0</td>\n",
       "      <td>1</td>\n",
       "    </tr>\n",
       "    <tr>\n",
       "      <th>4</th>\n",
       "      <td>2015</td>\n",
       "      <td>1</td>\n",
       "      <td>1</td>\n",
       "      <td>4</td>\n",
       "      <td>AS</td>\n",
       "      <td>135</td>\n",
       "      <td>N527AS</td>\n",
       "      <td>SEA</td>\n",
       "      <td>ANC</td>\n",
       "      <td>2015-01-01 00:25:00</td>\n",
       "      <td>...</td>\n",
       "      <td>47.44898</td>\n",
       "      <td>-122.30931</td>\n",
       "      <td>Ted Stevens Anchorage International Airport</td>\n",
       "      <td>Anchorage</td>\n",
       "      <td>AK</td>\n",
       "      <td>61.17432</td>\n",
       "      <td>-149.99619</td>\n",
       "      <td>2015-01-01</td>\n",
       "      <td>0</td>\n",
       "      <td>1</td>\n",
       "    </tr>\n",
       "  </tbody>\n",
       "</table>\n",
       "<p>5 rows × 43 columns</p>\n",
       "</div>"
      ],
      "text/plain": [
       "   YEAR  MONTH  DAY  DAY_OF_WEEK AIRLINE_CODE  FLIGHT_NUMBER TAIL_NUMBER  \\\n",
       "0  2015      1    1            4           AS             98      N407AS   \n",
       "1  2015      1    1            4           AA           2336      N3KUAA   \n",
       "2  2015      1    1            4           US            840      N171US   \n",
       "3  2015      1    1            4           AA            258      N3HYAA   \n",
       "4  2015      1    1            4           AS            135      N527AS   \n",
       "\n",
       "  ORIGIN_AIRPORT DESTINATION_AIRPORT SCHEDULED_DEPARTURE  ...  ORIG_LATITUDE  \\\n",
       "0            ANC                 SEA 2015-01-01 00:05:00  ...       61.17432   \n",
       "1            LAX                 PBI 2015-01-01 00:10:00  ...       33.94254   \n",
       "2            SFO                 CLT 2015-01-01 00:20:00  ...       37.61900   \n",
       "3            LAX                 MIA 2015-01-01 00:20:00  ...       33.94254   \n",
       "4            SEA                 ANC 2015-01-01 00:25:00  ...       47.44898   \n",
       "\n",
       "   ORIG_LONGITUDE                                 DEST_AIRPORT  \\\n",
       "0      -149.99619         Seattle-Tacoma International Airport   \n",
       "1      -118.40807             Palm Beach International Airport   \n",
       "2      -122.37484      Charlotte Douglas International Airport   \n",
       "3      -118.40807                  Miami International Airport   \n",
       "4      -122.30931  Ted Stevens Anchorage International Airport   \n",
       "\n",
       "         DEST_CITY  DEST_STATE  DEST_LATITUDE  DEST_LONGITUDE       DATE  \\\n",
       "0          Seattle          WA       47.44898      -122.30931 2015-01-01   \n",
       "1  West Palm Beach          FL       26.68316       -80.09559 2015-01-01   \n",
       "2        Charlotte          NC       35.21401       -80.94313 2015-01-01   \n",
       "3            Miami          FL       25.79325       -80.29056 2015-01-01   \n",
       "4        Anchorage          AK       61.17432      -149.99619 2015-01-01   \n",
       "\n",
       "   DELAY_LEVEL WEEKDAY  \n",
       "0            0       1  \n",
       "1            0       1  \n",
       "2            0       1  \n",
       "3            0       1  \n",
       "4            0       1  \n",
       "\n",
       "[5 rows x 43 columns]"
      ]
     },
     "execution_count": 10,
     "metadata": {},
     "output_type": "execute_result"
    }
   ],
   "source": [
    "df.head()"
   ]
  },
  {
   "cell_type": "code",
   "execution_count": 11,
   "id": "recreational-trick",
   "metadata": {},
   "outputs": [],
   "source": [
    "df.drop(['YEAR', 'DAY', 'TAIL_NUMBER', 'FLIGHT_NUMBER', \n",
    "              'SCHEDULED_DEPARTURE', 'SCHEDULED_ARRIVAL', 'WHEELS_OFF',\n",
    "              'WHEELS_ON','CANCELLATION_REASON', 'AIRLINE',\n",
    "              'ORIGIN_AIRPORT', 'DESTINATION_AIRPORT', 'ORIG_LATITUDE',\n",
    "              'ORIG_CITY','ORIG_STATE','ORIG_LONGITUDE', 'DEST_CITY', \n",
    "              'DEST_LATITUDE', 'DEST_LONGITUDE', 'DATE', 'DELAY_LEVEL', 'DEST_STATE'], axis=1, inplace=True)"
   ]
  },
  {
   "cell_type": "code",
   "execution_count": 12,
   "id": "wrapped-memory",
   "metadata": {},
   "outputs": [
    {
     "data": {
      "text/plain": [
       "Index(['MONTH', 'DAY_OF_WEEK', 'AIRLINE_CODE', 'DEPARTURE_DELAY', 'TAXI_OUT',\n",
       "       'SCHEDULED_TIME', 'ELAPSED_TIME', 'AIR_TIME', 'DISTANCE', 'TAXI_IN',\n",
       "       'ARRIVAL_DELAY', 'DIVERTED', 'CANCELLED', 'AIR_SYSTEM_DELAY',\n",
       "       'SECURITY_DELAY', 'AIRLINE_DELAY', 'LATE_AIRCRAFT_DELAY',\n",
       "       'WEATHER_DELAY', 'ORIG_AIRPORT', 'DEST_AIRPORT', 'WEEKDAY'],\n",
       "      dtype='object')"
      ]
     },
     "execution_count": 12,
     "metadata": {},
     "output_type": "execute_result"
    }
   ],
   "source": [
    "df.columns"
   ]
  },
  {
   "cell_type": "code",
   "execution_count": 13,
   "id": "likely-anger",
   "metadata": {},
   "outputs": [
    {
     "data": {
      "text/html": [
       "<div>\n",
       "<style scoped>\n",
       "    .dataframe tbody tr th:only-of-type {\n",
       "        vertical-align: middle;\n",
       "    }\n",
       "\n",
       "    .dataframe tbody tr th {\n",
       "        vertical-align: top;\n",
       "    }\n",
       "\n",
       "    .dataframe thead th {\n",
       "        text-align: right;\n",
       "    }\n",
       "</style>\n",
       "<table border=\"1\" class=\"dataframe\">\n",
       "  <thead>\n",
       "    <tr style=\"text-align: right;\">\n",
       "      <th></th>\n",
       "      <th>MONTH</th>\n",
       "      <th>DAY_OF_WEEK</th>\n",
       "      <th>AIRLINE_CODE</th>\n",
       "      <th>DEPARTURE_DELAY</th>\n",
       "      <th>TAXI_OUT</th>\n",
       "      <th>SCHEDULED_TIME</th>\n",
       "      <th>ELAPSED_TIME</th>\n",
       "      <th>AIR_TIME</th>\n",
       "      <th>DISTANCE</th>\n",
       "      <th>TAXI_IN</th>\n",
       "      <th>...</th>\n",
       "      <th>DIVERTED</th>\n",
       "      <th>CANCELLED</th>\n",
       "      <th>AIR_SYSTEM_DELAY</th>\n",
       "      <th>SECURITY_DELAY</th>\n",
       "      <th>AIRLINE_DELAY</th>\n",
       "      <th>LATE_AIRCRAFT_DELAY</th>\n",
       "      <th>WEATHER_DELAY</th>\n",
       "      <th>ORIG_AIRPORT</th>\n",
       "      <th>DEST_AIRPORT</th>\n",
       "      <th>WEEKDAY</th>\n",
       "    </tr>\n",
       "  </thead>\n",
       "  <tbody>\n",
       "    <tr>\n",
       "      <th>0</th>\n",
       "      <td>1</td>\n",
       "      <td>4</td>\n",
       "      <td>AS</td>\n",
       "      <td>-11.0</td>\n",
       "      <td>21.0</td>\n",
       "      <td>205.0</td>\n",
       "      <td>194.0</td>\n",
       "      <td>169.0</td>\n",
       "      <td>1448</td>\n",
       "      <td>4.0</td>\n",
       "      <td>...</td>\n",
       "      <td>0</td>\n",
       "      <td>0</td>\n",
       "      <td>NaN</td>\n",
       "      <td>NaN</td>\n",
       "      <td>NaN</td>\n",
       "      <td>NaN</td>\n",
       "      <td>NaN</td>\n",
       "      <td>Ted Stevens Anchorage International Airport</td>\n",
       "      <td>Seattle-Tacoma International Airport</td>\n",
       "      <td>1</td>\n",
       "    </tr>\n",
       "    <tr>\n",
       "      <th>1</th>\n",
       "      <td>1</td>\n",
       "      <td>4</td>\n",
       "      <td>AA</td>\n",
       "      <td>-8.0</td>\n",
       "      <td>12.0</td>\n",
       "      <td>280.0</td>\n",
       "      <td>279.0</td>\n",
       "      <td>263.0</td>\n",
       "      <td>2330</td>\n",
       "      <td>4.0</td>\n",
       "      <td>...</td>\n",
       "      <td>0</td>\n",
       "      <td>0</td>\n",
       "      <td>NaN</td>\n",
       "      <td>NaN</td>\n",
       "      <td>NaN</td>\n",
       "      <td>NaN</td>\n",
       "      <td>NaN</td>\n",
       "      <td>Los Angeles International Airport</td>\n",
       "      <td>Palm Beach International Airport</td>\n",
       "      <td>1</td>\n",
       "    </tr>\n",
       "    <tr>\n",
       "      <th>2</th>\n",
       "      <td>1</td>\n",
       "      <td>4</td>\n",
       "      <td>US</td>\n",
       "      <td>-2.0</td>\n",
       "      <td>16.0</td>\n",
       "      <td>286.0</td>\n",
       "      <td>293.0</td>\n",
       "      <td>266.0</td>\n",
       "      <td>2296</td>\n",
       "      <td>11.0</td>\n",
       "      <td>...</td>\n",
       "      <td>0</td>\n",
       "      <td>0</td>\n",
       "      <td>NaN</td>\n",
       "      <td>NaN</td>\n",
       "      <td>NaN</td>\n",
       "      <td>NaN</td>\n",
       "      <td>NaN</td>\n",
       "      <td>San Francisco International Airport</td>\n",
       "      <td>Charlotte Douglas International Airport</td>\n",
       "      <td>1</td>\n",
       "    </tr>\n",
       "    <tr>\n",
       "      <th>3</th>\n",
       "      <td>1</td>\n",
       "      <td>4</td>\n",
       "      <td>AA</td>\n",
       "      <td>-5.0</td>\n",
       "      <td>15.0</td>\n",
       "      <td>285.0</td>\n",
       "      <td>281.0</td>\n",
       "      <td>258.0</td>\n",
       "      <td>2342</td>\n",
       "      <td>8.0</td>\n",
       "      <td>...</td>\n",
       "      <td>0</td>\n",
       "      <td>0</td>\n",
       "      <td>NaN</td>\n",
       "      <td>NaN</td>\n",
       "      <td>NaN</td>\n",
       "      <td>NaN</td>\n",
       "      <td>NaN</td>\n",
       "      <td>Los Angeles International Airport</td>\n",
       "      <td>Miami International Airport</td>\n",
       "      <td>1</td>\n",
       "    </tr>\n",
       "    <tr>\n",
       "      <th>4</th>\n",
       "      <td>1</td>\n",
       "      <td>4</td>\n",
       "      <td>AS</td>\n",
       "      <td>-1.0</td>\n",
       "      <td>11.0</td>\n",
       "      <td>235.0</td>\n",
       "      <td>215.0</td>\n",
       "      <td>199.0</td>\n",
       "      <td>1448</td>\n",
       "      <td>5.0</td>\n",
       "      <td>...</td>\n",
       "      <td>0</td>\n",
       "      <td>0</td>\n",
       "      <td>NaN</td>\n",
       "      <td>NaN</td>\n",
       "      <td>NaN</td>\n",
       "      <td>NaN</td>\n",
       "      <td>NaN</td>\n",
       "      <td>Seattle-Tacoma International Airport</td>\n",
       "      <td>Ted Stevens Anchorage International Airport</td>\n",
       "      <td>1</td>\n",
       "    </tr>\n",
       "  </tbody>\n",
       "</table>\n",
       "<p>5 rows × 21 columns</p>\n",
       "</div>"
      ],
      "text/plain": [
       "   MONTH  DAY_OF_WEEK AIRLINE_CODE  DEPARTURE_DELAY  TAXI_OUT  SCHEDULED_TIME  \\\n",
       "0      1            4           AS            -11.0      21.0           205.0   \n",
       "1      1            4           AA             -8.0      12.0           280.0   \n",
       "2      1            4           US             -2.0      16.0           286.0   \n",
       "3      1            4           AA             -5.0      15.0           285.0   \n",
       "4      1            4           AS             -1.0      11.0           235.0   \n",
       "\n",
       "   ELAPSED_TIME  AIR_TIME  DISTANCE  TAXI_IN  ...  DIVERTED  CANCELLED  \\\n",
       "0         194.0     169.0      1448      4.0  ...         0          0   \n",
       "1         279.0     263.0      2330      4.0  ...         0          0   \n",
       "2         293.0     266.0      2296     11.0  ...         0          0   \n",
       "3         281.0     258.0      2342      8.0  ...         0          0   \n",
       "4         215.0     199.0      1448      5.0  ...         0          0   \n",
       "\n",
       "   AIR_SYSTEM_DELAY  SECURITY_DELAY  AIRLINE_DELAY  LATE_AIRCRAFT_DELAY  \\\n",
       "0               NaN             NaN            NaN                  NaN   \n",
       "1               NaN             NaN            NaN                  NaN   \n",
       "2               NaN             NaN            NaN                  NaN   \n",
       "3               NaN             NaN            NaN                  NaN   \n",
       "4               NaN             NaN            NaN                  NaN   \n",
       "\n",
       "   WEATHER_DELAY                                 ORIG_AIRPORT  \\\n",
       "0            NaN  Ted Stevens Anchorage International Airport   \n",
       "1            NaN            Los Angeles International Airport   \n",
       "2            NaN          San Francisco International Airport   \n",
       "3            NaN            Los Angeles International Airport   \n",
       "4            NaN         Seattle-Tacoma International Airport   \n",
       "\n",
       "                                  DEST_AIRPORT WEEKDAY  \n",
       "0         Seattle-Tacoma International Airport       1  \n",
       "1             Palm Beach International Airport       1  \n",
       "2      Charlotte Douglas International Airport       1  \n",
       "3                  Miami International Airport       1  \n",
       "4  Ted Stevens Anchorage International Airport       1  \n",
       "\n",
       "[5 rows x 21 columns]"
      ]
     },
     "execution_count": 13,
     "metadata": {},
     "output_type": "execute_result"
    }
   ],
   "source": [
    "df.head()"
   ]
  },
  {
   "cell_type": "markdown",
   "id": "electoral-consciousness",
   "metadata": {},
   "source": [
    "I am going to impute the missing values in the dataset using the median of the respective columns since the median is a much more robust measure than the mean."
   ]
  },
  {
   "cell_type": "code",
   "execution_count": 14,
   "id": "historical-disabled",
   "metadata": {},
   "outputs": [],
   "source": [
    "df = df.fillna(df.median())"
   ]
  },
  {
   "cell_type": "markdown",
   "id": "stuck-accountability",
   "metadata": {},
   "source": [
    "I am going to examine how many flights have a large arrival delay. I'm defining a large delay as any delay above 15 minutes."
   ]
  },
  {
   "cell_type": "code",
   "execution_count": 15,
   "id": "secret-repository",
   "metadata": {},
   "outputs": [],
   "source": [
    "delay = []\n",
    "\n",
    "for val in df['ARRIVAL_DELAY']:\n",
    "    if val > 15:\n",
    "        delay.append(1)\n",
    "    else:\n",
    "        delay.append(0)  \n",
    "\n",
    "df['DELAY'] = delay"
   ]
  },
  {
   "cell_type": "code",
   "execution_count": 16,
   "id": "complex-comment",
   "metadata": {},
   "outputs": [
    {
     "data": {
      "text/plain": [
       "DELAY\n",
       "0    1127523\n",
       "1     275948\n",
       "dtype: int64"
      ]
     },
     "execution_count": 16,
     "metadata": {},
     "output_type": "execute_result"
    }
   ],
   "source": [
    "df.value_counts('DELAY')"
   ]
  },
  {
   "cell_type": "markdown",
   "id": "pediatric-platinum",
   "metadata": {},
   "source": [
    "I see that there are more flights with a <= 15 min arrival delay than flights with a larger arrival delay.\n",
    "\n",
    "Now, it's time to move onto the delay prediction!"
   ]
  },
  {
   "cell_type": "code",
   "execution_count": 17,
   "id": "concrete-decision",
   "metadata": {},
   "outputs": [],
   "source": [
    "X = df.drop(['DELAY', 'ARRIVAL_DELAY'], axis=1)\n",
    "y = df['ARRIVAL_DELAY']"
   ]
  },
  {
   "cell_type": "code",
   "execution_count": 18,
   "id": "continuous-anniversary",
   "metadata": {},
   "outputs": [
    {
     "name": "stdout",
     "output_type": "stream",
     "text": [
      "<class 'pandas.core.frame.DataFrame'>\n",
      "Int64Index: 1403471 entries, 0 to 1403470\n",
      "Data columns (total 20 columns):\n",
      " #   Column               Non-Null Count    Dtype  \n",
      "---  ------               --------------    -----  \n",
      " 0   MONTH                1403471 non-null  int64  \n",
      " 1   DAY_OF_WEEK          1403471 non-null  int64  \n",
      " 2   AIRLINE_CODE         1403471 non-null  object \n",
      " 3   DEPARTURE_DELAY      1403471 non-null  float64\n",
      " 4   TAXI_OUT             1403471 non-null  float64\n",
      " 5   SCHEDULED_TIME       1403471 non-null  float64\n",
      " 6   ELAPSED_TIME         1403471 non-null  float64\n",
      " 7   AIR_TIME             1403471 non-null  float64\n",
      " 8   DISTANCE             1403471 non-null  int64  \n",
      " 9   TAXI_IN              1403471 non-null  float64\n",
      " 10  DIVERTED             1403471 non-null  int64  \n",
      " 11  CANCELLED            1403471 non-null  int64  \n",
      " 12  AIR_SYSTEM_DELAY     1403471 non-null  float64\n",
      " 13  SECURITY_DELAY       1403471 non-null  float64\n",
      " 14  AIRLINE_DELAY        1403471 non-null  float64\n",
      " 15  LATE_AIRCRAFT_DELAY  1403471 non-null  float64\n",
      " 16  WEATHER_DELAY        1403471 non-null  float64\n",
      " 17  ORIG_AIRPORT         1403471 non-null  object \n",
      " 18  DEST_AIRPORT         1403471 non-null  object \n",
      " 19  WEEKDAY              1403471 non-null  int64  \n",
      "dtypes: float64(11), int64(6), object(3)\n",
      "memory usage: 224.9+ MB\n"
     ]
    }
   ],
   "source": [
    "X.info()"
   ]
  },
  {
   "cell_type": "markdown",
   "id": "persistent-acrylic",
   "metadata": {},
   "source": [
    "As we see above, there are a few columns that are not numerical, and it is important for these to be transformed before proceeding with modeling. I have decided to use label encoding, since all of these variables are categorical variables."
   ]
  },
  {
   "cell_type": "code",
   "execution_count": 19,
   "id": "pending-modem",
   "metadata": {},
   "outputs": [],
   "source": [
    "le = LabelEncoder()\n",
    "\n",
    "X['AIRLINE_CODE']= le.fit_transform(X['AIRLINE_CODE'])\n",
    "X['ORIG_AIRPORT'] = le.fit_transform(X['ORIG_AIRPORT'])\n",
    "X['DEST_AIRPORT'] = le.fit_transform(X['DEST_AIRPORT'])"
   ]
  },
  {
   "cell_type": "code",
   "execution_count": 20,
   "id": "spoken-calculator",
   "metadata": {},
   "outputs": [],
   "source": [
    "X = pd.get_dummies(X, columns=['MONTH', 'DAY_OF_WEEK'])"
   ]
  },
  {
   "cell_type": "markdown",
   "id": "integrated-boost",
   "metadata": {},
   "source": [
    "### Splitting into train and test sets:"
   ]
  },
  {
   "cell_type": "code",
   "execution_count": 21,
   "id": "attempted-fountain",
   "metadata": {},
   "outputs": [],
   "source": [
    "X_train, X_test, y_train, y_test = train_test_split(X, y, test_size=0.30, random_state=666)"
   ]
  },
  {
   "cell_type": "markdown",
   "id": "wrong-conversation",
   "metadata": {},
   "source": [
    "I am also going to scale the data so that all the variables are in a uniform scale. This will let the regressor weight all the columns uniformly."
   ]
  },
  {
   "cell_type": "code",
   "execution_count": 22,
   "id": "objective-dividend",
   "metadata": {},
   "outputs": [],
   "source": [
    "scaler = StandardScaler()\n",
    "scaler.fit(X_train)\n",
    "X_train = scaler.transform(X_train)\n",
    "X_test = scaler.transform(X_test)"
   ]
  },
  {
   "cell_type": "markdown",
   "id": "essential-oregon",
   "metadata": {},
   "source": [
    "Now that I have finished pre-processing and feature selecting, it is train to choose and train models to predict how long a particular flight will be delayed upon arrival. I am going to test the performance of various models before deciding which model I want to tune."
   ]
  },
  {
   "cell_type": "code",
   "execution_count": 23,
   "id": "future-bulletin",
   "metadata": {},
   "outputs": [
    {
     "name": "stdout",
     "output_type": "stream",
     "text": [
      "Random Forest Regressor\n",
      "Mean Absolute Error: 0.5711842999035724\n",
      "Mean Squared Error: 4.300947444672979\n",
      "Root Mean Squared Error: 2.073872571946738\n",
      "R2 :  0.9972877439740886\n",
      "\n",
      "Gradient Boosting Regressor\n",
      "Mean Absolute Error: 5.861076559749258\n",
      "Mean Squared Error: 63.629400053702554\n",
      "Root Mean Squared Error: 7.976803874591788\n",
      "R2 :  0.9598741379798696\n",
      "\n",
      "Decision Tree Regressor\n",
      "Mean Absolute Error: 1.0164757910137232\n",
      "Mean Squared Error: 7.38459583604486\n",
      "Root Mean Squared Error: 2.717461285105063\n",
      "R2 :  0.9953431389681267\n",
      "\n",
      "Linear Regression\n",
      "Mean Absolute Error: 5.285331088876385\n",
      "Mean Squared Error: 60.11562382929442\n",
      "Root Mean Squared Error: 7.753426586309722\n",
      "R2 :  0.9620899894546787\n",
      "\n"
     ]
    }
   ],
   "source": [
    "for model, name in zip([ensemble.RandomForestRegressor(), ensemble.GradientBoostingRegressor(),\n",
    "                        tree.DecisionTreeRegressor(), LinearRegression()], \n",
    "     ['Random Forest Regressor', 'Gradient Boosting Regressor', 'Decision Tree Regressor',\n",
    "     'Linear Regression']):\n",
    "    model1 = model.fit(X_train, y_train)\n",
    "    y_pred = model1.predict(X_test)\n",
    "    print(name)\n",
    "    print('Mean Absolute Error:', mean_absolute_error(y_test, y_pred))  \n",
    "    print('Mean Squared Error:', mean_squared_error(y_test, y_pred))  \n",
    "    print('Root Mean Squared Error:', np.sqrt(mean_squared_error(y_test, y_pred)))\n",
    "    print('R2 : ',r2_score(y_test, y_pred))\n",
    "    print()"
   ]
  },
  {
   "cell_type": "markdown",
   "id": "analyzed-finance",
   "metadata": {},
   "source": [
    "We see that the Random Forest and Decision Tree models have the lowest mean absolute error out of all of the models. I am going to tune and train a random forest on my data so as to avoid any chance of overfitting (since decision trees are prone to overfitting)."
   ]
  },
  {
   "cell_type": "code",
   "execution_count": 24,
   "id": "portable-preparation",
   "metadata": {},
   "outputs": [],
   "source": [
    "rf = ensemble.RandomForestRegressor()"
   ]
  },
  {
   "cell_type": "markdown",
   "id": "conditional-phase",
   "metadata": {},
   "source": [
    "I have decided to use randomized search instead of grid search to save some time."
   ]
  },
  {
   "cell_type": "code",
   "execution_count": 25,
   "id": "former-battlefield",
   "metadata": {},
   "outputs": [],
   "source": [
    "param_grid = {'bootstrap': [True, False], 'max_depth': [5,10,None], 'max_features': ['auto', 'log2'], 'n_estimators': [8,9,10,11,12,13,14,15,16,17,18,19,20]}"
   ]
  },
  {
   "cell_type": "code",
   "execution_count": 26,
   "id": "continent-clock",
   "metadata": {},
   "outputs": [],
   "source": [
    "rand_search = RandomizedSearchCV(estimator=rf, param_distributions=param_grid, n_iter=20, scoring='neg_mean_absolute_error', cv=5, n_jobs=1, verbose=0, return_train_score=True)"
   ]
  },
  {
   "cell_type": "code",
   "execution_count": 27,
   "id": "printable-beast",
   "metadata": {},
   "outputs": [
    {
     "data": {
      "text/plain": [
       "RandomizedSearchCV(cv=5, estimator=RandomForestRegressor(), n_iter=20, n_jobs=1,\n",
       "                   param_distributions={'bootstrap': [True, False],\n",
       "                                        'max_depth': [5, 10, None],\n",
       "                                        'max_features': ['auto', 'log2'],\n",
       "                                        'n_estimators': [8, 9, 10, 11, 12, 13,\n",
       "                                                         14, 15, 16, 17, 18, 19,\n",
       "                                                         20]},\n",
       "                   return_train_score=True, scoring='neg_mean_absolute_error')"
      ]
     },
     "execution_count": 27,
     "metadata": {},
     "output_type": "execute_result"
    }
   ],
   "source": [
    "rand_search.fit(X_train,y_train)"
   ]
  },
  {
   "cell_type": "code",
   "execution_count": 28,
   "id": "cellular-paper",
   "metadata": {},
   "outputs": [
    {
     "name": "stdout",
     "output_type": "stream",
     "text": [
      "{'n_estimators': 17, 'max_features': 'auto', 'max_depth': None, 'bootstrap': True}\n"
     ]
    }
   ],
   "source": [
    "print(rand_search.best_params_)"
   ]
  },
  {
   "cell_type": "markdown",
   "id": "standard-tomorrow",
   "metadata": {},
   "source": [
    "We see the best parameters above, and I will finally test the best model on my test data."
   ]
  },
  {
   "cell_type": "code",
   "execution_count": 30,
   "id": "related-wages",
   "metadata": {},
   "outputs": [
    {
     "name": "stdout",
     "output_type": "stream",
     "text": [
      "0.9961248459164971\n"
     ]
    }
   ],
   "source": [
    "print(rand_search.best_estimator_.score(X_test, y_test))"
   ]
  }
 ],
 "metadata": {
  "kernelspec": {
   "display_name": "Python 3",
   "language": "python",
   "name": "python3"
  },
  "language_info": {
   "codemirror_mode": {
    "name": "ipython",
    "version": 3
   },
   "file_extension": ".py",
   "mimetype": "text/x-python",
   "name": "python",
   "nbconvert_exporter": "python",
   "pygments_lexer": "ipython3",
   "version": "3.9.1"
  }
 },
 "nbformat": 4,
 "nbformat_minor": 5
}
